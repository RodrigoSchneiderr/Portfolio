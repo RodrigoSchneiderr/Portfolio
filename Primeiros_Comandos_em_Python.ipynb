{
  "nbformat": 4,
  "nbformat_minor": 0,
  "metadata": {
    "colab": {
      "provenance": [],
      "authorship_tag": "ABX9TyNILpJbGge0XtdVyNyaFis6",
      "include_colab_link": true
    },
    "kernelspec": {
      "name": "python3",
      "display_name": "Python 3"
    },
    "language_info": {
      "name": "python"
    }
  },
  "cells": [
    {
      "cell_type": "markdown",
      "metadata": {
        "id": "view-in-github",
        "colab_type": "text"
      },
      "source": [
        "<a href=\"https://colab.research.google.com/github/RodrigoSchneiderr/Portfolio/blob/main/Primeiros_Comandos_em_Python.ipynb\" target=\"_parent\"><img src=\"https://colab.research.google.com/assets/colab-badge.svg\" alt=\"Open In Colab\"/></a>"
      ]
    },
    {
      "cell_type": "code",
      "source": [
        "# Crie um programa que escreva \"Olá, Mundo!\" na tela.\n",
        "print('Olá, Mundo!')"
      ],
      "metadata": {
        "colab": {
          "base_uri": "https://localhost:8080/"
        },
        "id": "OSl8L8oCLpf6",
        "outputId": "42d07598-211f-4d6a-cc03-51fc50a2ec8e"
      },
      "execution_count": 5,
      "outputs": [
        {
          "output_type": "stream",
          "name": "stdout",
          "text": [
            "Olá, Mundo!\n"
          ]
        }
      ]
    },
    {
      "cell_type": "code",
      "source": [
        "# Faça um programa que leia o nome de uma pessoa e mostra uma mensagem de boas vindas na tela.\n",
        "\n",
        "nome = input ('Digite seu nome: ')\n",
        "print('É um prazer te conhecer, {}!'.format(nome))"
      ],
      "metadata": {
        "colab": {
          "base_uri": "https://localhost:8080/"
        },
        "id": "zbg1nd7DNjEQ",
        "outputId": "a5025cc2-ac4c-4010-f130-20dd44d0ea97"
      },
      "execution_count": 8,
      "outputs": [
        {
          "output_type": "stream",
          "name": "stdout",
          "text": [
            "Digite seu nome: João\n",
            "É um prazer te conhecer, João!\n"
          ]
        }
      ]
    },
    {
      "cell_type": "code",
      "execution_count": 3,
      "metadata": {
        "colab": {
          "base_uri": "https://localhost:8080/"
        },
        "id": "EwjlAbKxChv_",
        "outputId": "f3d91e60-7259-4ca0-f078-e5de366fdfa8"
      },
      "outputs": [
        {
          "output_type": "stream",
          "name": "stdout",
          "text": [
            "Qual é seu nome? João\n",
            "Quantos anos você tem? 38\n",
            "Qual é seu peso? 90\n",
            "João 38 90\n"
          ]
        }
      ],
      "source": [
        "nome = input ('Qual é seu nome? ')\n",
        "idade = input ('Quantos anos você tem? ')\n",
        "peso = input ('Qual é seu peso? ')\n",
        "print(nome, idade, peso)"
      ]
    },
    {
      "cell_type": "code",
      "source": [
        "# Crie um script Python que leia o nome de uma pessoa e mostre uma mensagem de boas-vindas de acordo com o valor digitado.\n",
        "\n",
        "nome = input ('Qual é seu nome? ')\n",
        "print ('Olá {}!, prazer em te conhecer!'. format(nome))"
      ],
      "metadata": {
        "colab": {
          "base_uri": "https://localhost:8080/"
        },
        "id": "jR3r6tlMJO2g",
        "outputId": "5948a62d-48aa-4bfd-ff9e-19c2230744e6"
      },
      "execution_count": 17,
      "outputs": [
        {
          "output_type": "stream",
          "name": "stdout",
          "text": [
            "Qual é seu nome? João\n",
            "Olá João!, prazer em te conhecer!\n"
          ]
        }
      ]
    },
    {
      "cell_type": "code",
      "source": [
        "# Crie um script Python que leia o dia, o mês e o ano de nascimento de uma pessoa e mostre uma mensagem com a data formatada.\n",
        "\n",
        "dia = input ('Que dia você nasceu? ')\n",
        "mes = input ('Que mês você nasceu? ')\n",
        "ano = input ('Que ano você nasceu? ')\n",
        "print ('Você nasceu no dia {} de {} de {}. Correto?'.format(dia, mes, ano))"
      ],
      "metadata": {
        "colab": {
          "base_uri": "https://localhost:8080/"
        },
        "id": "an1CWRJ9J5UO",
        "outputId": "9a65efa9-396a-48cd-f791-7d35245e0f38"
      },
      "execution_count": 11,
      "outputs": [
        {
          "output_type": "stream",
          "name": "stdout",
          "text": [
            "Que dia você nasceu? 25\n",
            "Que mês você nasceu? fevereirio\n",
            "Que ano você nasceu? 1986\n",
            "Você nasceu no dia 25 de fevereirio de 1986. Correto?\n"
          ]
        }
      ]
    },
    {
      "cell_type": "code",
      "source": [
        "# Crie um script Python que leia dois números e tente mostrar a soma entre eles.\n",
        "\n",
        "n1 = int (input ('Digite um número: '))\n",
        "n2 = int (input ('Digite outro número: '))\n",
        "soma = n1 + n2\n",
        "print ('A soma é {}'.format(soma))"
      ],
      "metadata": {
        "colab": {
          "base_uri": "https://localhost:8080/"
        },
        "id": "aOaBcZPiLa9Y",
        "outputId": "8bd56e64-28d6-4563-c25c-64f9adb51367"
      },
      "execution_count": 12,
      "outputs": [
        {
          "output_type": "stream",
          "name": "stdout",
          "text": [
            "Digite um número: 8\n",
            "Digite outro número: 10\n",
            "A soma é 18\n"
          ]
        }
      ]
    },
    {
      "cell_type": "code",
      "source": [
        "# Faça um programa que leia algo pelo teclado e mostre na tela o seu tipo primitivo e todas as informações possíveis sobre ele.\n",
        "\n",
        "a = input ('Digite algo: ')\n",
        "print ('O tipo primitivo desse valor é', type(a))\n",
        "print ('Só tem espaços?', a.isspace())\n",
        "print ('É um número?', a.isnumeric())\n",
        "print ('É alfabético?', a.isalpha())\n",
        "print ('É alfanumérico?', a.isalnum())\n",
        "print ('Está em maiúsculas?', a.isupper())\n",
        "print ('Está em minúsculas?', a.islower())\n",
        "print ('Está capitalizada?', a.istitle())"
      ],
      "metadata": {
        "colab": {
          "base_uri": "https://localhost:8080/"
        },
        "id": "ZegSfDIQU37b",
        "outputId": "be763179-6dfb-4f0d-8ef9-eb8aa8c75dbb"
      },
      "execution_count": 16,
      "outputs": [
        {
          "output_type": "stream",
          "name": "stdout",
          "text": [
            "Digite algo: Oi\n",
            "O tipo primitivo desse valor é <class 'str'>\n",
            "Só tem espaços? False\n",
            "É um número? False\n",
            "É alfabético? True\n",
            "É alfanumérico? True\n",
            "Está em maiúsculas? False\n",
            "Está em minúsculas? False\n",
            "Está capitalizada? True\n"
          ]
        }
      ]
    }
  ]
}